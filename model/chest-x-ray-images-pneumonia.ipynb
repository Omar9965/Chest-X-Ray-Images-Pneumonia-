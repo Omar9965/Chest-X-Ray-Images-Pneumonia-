{
 "cells": [
  {
   "cell_type": "code",
   "execution_count": 1,
   "id": "b387bb1b",
   "metadata": {
    "_cell_guid": "b1076dfc-b9ad-4769-8c92-a6c4dae69d19",
    "_uuid": "8f2839f25d086af736a60e9eeb907d3b93b6e0e5",
    "execution": {
     "iopub.execute_input": "2025-04-17T07:53:59.501070Z",
     "iopub.status.busy": "2025-04-17T07:53:59.500874Z",
     "iopub.status.idle": "2025-04-17T07:54:19.139761Z",
     "shell.execute_reply": "2025-04-17T07:54:19.138967Z"
    },
    "papermill": {
     "duration": 19.644207,
     "end_time": "2025-04-17T07:54:19.141213",
     "exception": false,
     "start_time": "2025-04-17T07:53:59.497006",
     "status": "completed"
    },
    "tags": []
   },
   "outputs": [],
   "source": [
    "import os\n",
    "import torch\n",
    "import torch.nn as nn\n",
    "import torch.optim as optim\n",
    "from torchvision import models\n",
    "from tqdm import tqdm\n",
    "import numpy as np\n",
    "from sklearn.utils.class_weight import compute_class_weight\n",
    "from sklearn.metrics import precision_recall_fscore_support, roc_auc_score, confusion_matrix\n",
    "from sklearn.model_selection import train_test_split\n",
    "import matplotlib.pyplot as plt\n",
    "import seaborn as sns\n",
    "import time\n",
    "import copy\n",
    "from torch.utils.data import DataLoader\n",
    "from torchvision.datasets import ImageFolder\n",
    "from PIL import Image\n",
    "import matplotlib.pyplot as plt\n",
    "\n",
    "from torchvision import transforms, datasets\n",
    "\n",
    "# Ignore warnings\n",
    "import warnings\n",
    "warnings.filterwarnings(\"ignore\")\n"
   ]
  },
  {
   "cell_type": "code",
   "execution_count": 2,
   "id": "75f87f0c",
   "metadata": {
    "execution": {
     "iopub.execute_input": "2025-04-17T07:54:19.147462Z",
     "iopub.status.busy": "2025-04-17T07:54:19.147128Z",
     "iopub.status.idle": "2025-04-17T07:54:19.151639Z",
     "shell.execute_reply": "2025-04-17T07:54:19.151127Z"
    },
    "papermill": {
     "duration": 0.008551,
     "end_time": "2025-04-17T07:54:19.152627",
     "exception": false,
     "start_time": "2025-04-17T07:54:19.144076",
     "status": "completed"
    },
    "tags": []
   },
   "outputs": [],
   "source": [
    "def count_folders_and_files(root_dir):\n",
    "    class_folders = [d for d in os.listdir(root_dir)]\n",
    "    print(f\"\\n📁 In directory: {root_dir}\")\n",
    "    print(f\"Number of class folders: {len(class_folders)}\")\n",
    "\n",
    "    total_images = 0\n",
    "    for class_name in class_folders:\n",
    "        class_dir = os.path.join(root_dir, class_name)\n",
    "        num_images = len([f for f in os.listdir(class_dir)])\n",
    "        total_images += num_images\n",
    "\n",
    "    print(f\"Total images in {root_dir}: {total_images}\")"
   ]
  },
  {
   "cell_type": "code",
   "execution_count": 3,
   "id": "b164792b",
   "metadata": {
    "execution": {
     "iopub.execute_input": "2025-04-17T07:54:19.157820Z",
     "iopub.status.busy": "2025-04-17T07:54:19.157616Z",
     "iopub.status.idle": "2025-04-17T07:54:19.160782Z",
     "shell.execute_reply": "2025-04-17T07:54:19.160289Z"
    },
    "papermill": {
     "duration": 0.006824,
     "end_time": "2025-04-17T07:54:19.161744",
     "exception": false,
     "start_time": "2025-04-17T07:54:19.154920",
     "status": "completed"
    },
    "tags": []
   },
   "outputs": [],
   "source": [
    "train_dir = os.path.join(\"/kaggle/input/chest-xray-pneumonia/chest_xray\", \"train\")\n",
    "val_dir = os.path.join(\"/kaggle/input/chest-xray-pneumonia/chest_xray\", \"val\")\n",
    "test_dir = os.path.join(\"/kaggle/input/chest-xray-pneumonia/chest_xray\", \"test\")"
   ]
  },
  {
   "cell_type": "code",
   "execution_count": 4,
   "id": "cfb3ba78",
   "metadata": {
    "execution": {
     "iopub.execute_input": "2025-04-17T07:54:19.166935Z",
     "iopub.status.busy": "2025-04-17T07:54:19.166733Z",
     "iopub.status.idle": "2025-04-17T07:54:19.294843Z",
     "shell.execute_reply": "2025-04-17T07:54:19.293993Z"
    },
    "papermill": {
     "duration": 0.132109,
     "end_time": "2025-04-17T07:54:19.296109",
     "exception": false,
     "start_time": "2025-04-17T07:54:19.164000",
     "status": "completed"
    },
    "tags": []
   },
   "outputs": [
    {
     "name": "stdout",
     "output_type": "stream",
     "text": [
      "\n",
      "📁 In directory: /kaggle/input/chest-xray-pneumonia/chest_xray/train\n",
      "Number of class folders: 2\n",
      "Total images in /kaggle/input/chest-xray-pneumonia/chest_xray/train: 5216\n",
      "\n",
      "📁 In directory: /kaggle/input/chest-xray-pneumonia/chest_xray/val\n",
      "Number of class folders: 2\n",
      "Total images in /kaggle/input/chest-xray-pneumonia/chest_xray/val: 16\n",
      "\n",
      "📁 In directory: /kaggle/input/chest-xray-pneumonia/chest_xray/test\n",
      "Number of class folders: 2\n",
      "Total images in /kaggle/input/chest-xray-pneumonia/chest_xray/test: 624\n"
     ]
    }
   ],
   "source": [
    "count_folders_and_files(train_dir)\n",
    "count_folders_and_files(val_dir)\n",
    "count_folders_and_files(test_dir)"
   ]
  },
  {
   "cell_type": "code",
   "execution_count": 5,
   "id": "864d919e",
   "metadata": {
    "execution": {
     "iopub.execute_input": "2025-04-17T07:54:19.302046Z",
     "iopub.status.busy": "2025-04-17T07:54:19.301420Z",
     "iopub.status.idle": "2025-04-17T07:54:19.306530Z",
     "shell.execute_reply": "2025-04-17T07:54:19.305841Z"
    },
    "papermill": {
     "duration": 0.00893,
     "end_time": "2025-04-17T07:54:19.307578",
     "exception": false,
     "start_time": "2025-04-17T07:54:19.298648",
     "status": "completed"
    },
    "tags": []
   },
   "outputs": [],
   "source": [
    "mean = [0.5]*3\n",
    "std  = [0.25]*3\n",
    "\n",
    "\n",
    "train_transform = transforms.Compose([\n",
    "    transforms.Grayscale(num_output_channels=3),\n",
    "    transforms.RandomResizedCrop(224),\n",
    "    transforms.RandomHorizontalFlip(),\n",
    "    transforms.RandomRotation(10),\n",
    "    transforms.ToTensor(),\n",
    "    transforms.Normalize(mean, std),\n",
    "])\n",
    "\n",
    "val_transform = transforms.Compose([\n",
    "    transforms.Grayscale(num_output_channels=3),\n",
    "    transforms.Resize(256),\n",
    "    transforms.CenterCrop(224),\n",
    "    transforms.ToTensor(),\n",
    "    transforms.Normalize(mean, std),\n",
    "])\n",
    "\n",
    "test_transform = val_transform\n"
   ]
  },
  {
   "cell_type": "code",
   "execution_count": 6,
   "id": "bf06c51d",
   "metadata": {
    "execution": {
     "iopub.execute_input": "2025-04-17T07:54:19.313818Z",
     "iopub.status.busy": "2025-04-17T07:54:19.313624Z",
     "iopub.status.idle": "2025-04-17T07:54:27.158796Z",
     "shell.execute_reply": "2025-04-17T07:54:27.158046Z"
    },
    "papermill": {
     "duration": 7.850139,
     "end_time": "2025-04-17T07:54:27.160001",
     "exception": false,
     "start_time": "2025-04-17T07:54:19.309862",
     "status": "completed"
    },
    "tags": []
   },
   "outputs": [
    {
     "data": {
      "image/png": "[encoded data removed]",
      "text/plain": [
       "<Figure size 300x300 with 9 Axes>"
      ]
     },
     "metadata": {},
     "output_type": "display_data"
    }
   ],
   "source": [
    "raw_train_data = ImageFolder(train_dir)\n",
    "\n",
    "# Plot a few images\n",
    "def plot_raw_images(dataset, figsize=(3, 3)):\n",
    "    fig, axes = plt.subplots(3, 3, figsize=figsize)\n",
    "    for i in range(9):\n",
    "        img, label = dataset[i]\n",
    "        ax = axes[i // 3, i % 3]\n",
    "        ax.imshow(img)\n",
    "        ax.set_title(dataset.classes[label])\n",
    "        ax.axis('off')\n",
    "\n",
    "    plt.tight_layout()\n",
    "    plt.show()\n",
    "\n",
    "plot_raw_images(raw_train_data)\n"
   ]
  },
  {
   "cell_type": "code",
   "execution_count": 7,
   "id": "3784c105",
   "metadata": {
    "execution": {
     "iopub.execute_input": "2025-04-17T07:54:27.168653Z",
     "iopub.status.busy": "2025-04-17T07:54:27.168170Z",
     "iopub.status.idle": "2025-04-17T07:54:31.815522Z",
     "shell.execute_reply": "2025-04-17T07:54:31.814973Z"
    },
    "papermill": {
     "duration": 4.652857,
     "end_time": "2025-04-17T07:54:31.816897",
     "exception": false,
     "start_time": "2025-04-17T07:54:27.164040",
     "status": "completed"
    },
    "tags": []
   },
   "outputs": [],
   "source": [
    "train_data = ImageFolder(train_dir, transform=train_transform)\n",
    "val_data = ImageFolder(val_dir, transform=val_transform)\n",
    "test_data = ImageFolder(test_dir,transform=test_transform)"
   ]
  },
  {
   "cell_type": "code",
   "execution_count": 8,
   "id": "ac1cd12a",
   "metadata": {
    "execution": {
     "iopub.execute_input": "2025-04-17T07:54:31.825122Z",
     "iopub.status.busy": "2025-04-17T07:54:31.824906Z",
     "iopub.status.idle": "2025-04-17T07:56:42.421622Z",
     "shell.execute_reply": "2025-04-17T07:56:42.420940Z"
    },
    "papermill": {
     "duration": 130.60233,
     "end_time": "2025-04-17T07:56:42.423154",
     "exception": false,
     "start_time": "2025-04-17T07:54:31.820824",
     "status": "completed"
    },
    "tags": []
   },
   "outputs": [],
   "source": [
    "train_indices, val_indices = train_test_split(\n",
    "    range(len(train_data)),\n",
    "    test_size=0.2,  # 20% for validation\n",
    "    stratify=[label for _, label in train_data],  # Maintain class distribution\n",
    "    random_state=42  \n",
    ")\n",
    "\n",
    "# 3. Create samplers for training and validation\n",
    "train_sampler = torch.utils.data.SubsetRandomSampler(train_indices)\n",
    "val_sampler = torch.utils.data.SubsetRandomSampler(val_indices)\n",
    "\n",
    "# 4. Create data loaders using the samplers\n",
    "train_loader = torch.utils.data.DataLoader(\n",
    "    train_data,\n",
    "    batch_size=32,\n",
    "    sampler=train_sampler,\n",
    "    num_workers=4\n",
    ")\n",
    "\n",
    "\n",
    "\n",
    "\n",
    "val_loader = torch.utils.data.DataLoader(\n",
    "    train_data,\n",
    "    batch_size=32,\n",
    "    sampler=val_sampler,\n",
    "    num_workers=4\n",
    ")\n",
    "\n",
    "\n",
    "test_loader = torch.utils.data.DataLoader(\n",
    "    test_data,\n",
    "    batch_size=32,\n",
    "    shuffle=False,  \n",
    "    num_workers=4\n",
    ")"
   ]
  },
  {
   "cell_type": "code",
   "execution_count": 9,
   "id": "af084c0e",
   "metadata": {
    "execution": {
     "iopub.execute_input": "2025-04-17T07:56:42.432979Z",
     "iopub.status.busy": "2025-04-17T07:56:42.432340Z",
     "iopub.status.idle": "2025-04-17T07:56:52.110728Z",
     "shell.execute_reply": "2025-04-17T07:56:52.109891Z"
    },
    "papermill": {
     "duration": 9.684197,
     "end_time": "2025-04-17T07:56:52.111942",
     "exception": false,
     "start_time": "2025-04-17T07:56:42.427745",
     "status": "completed"
    },
    "tags": []
   },
   "outputs": [
    {
     "data": {
      "text/plain": [
       "(torch.Size([32, 3, 224, 224]),\n",
       " torch.Size([32, 3, 224, 224]),\n",
       " torch.Size([32, 3, 224, 224]))"
      ]
     },
     "execution_count": 9,
     "metadata": {},
     "output_type": "execute_result"
    }
   ],
   "source": [
    "next(iter(train_loader))[0].shape,next(iter(val_loader))[0].shape,next(iter(test_loader))[0].shape"
   ]
  },
  {
   "cell_type": "code",
   "execution_count": 10,
   "id": "bf88d4de",
   "metadata": {
    "execution": {
     "iopub.execute_input": "2025-04-17T07:56:52.120763Z",
     "iopub.status.busy": "2025-04-17T07:56:52.120551Z",
     "iopub.status.idle": "2025-04-17T08:23:08.016759Z",
     "shell.execute_reply": "2025-04-17T08:23:08.015797Z"
    },
    "papermill": {
     "duration": 1575.902097,
     "end_time": "2025-04-17T08:23:08.017922",
     "exception": false,
     "start_time": "2025-04-17T07:56:52.115825",
     "status": "completed"
    },
    "tags": []
   },
   "outputs": [
    {
     "name": "stdout",
     "output_type": "stream",
     "text": [
      "Using device: cuda\n"
     ]
    },
    {
     "name": "stderr",
     "output_type": "stream",
     "text": [
      "Downloading: \"https://download.pytorch.org/models/densenet121-a639ec97.pth\" to /root/.cache/torch/hub/checkpoints/densenet121-a639ec97.pth\n",
      "100%|██████████| 30.8M/30.8M [00:00<00:00, 152MB/s]\n",
      "Epoch 1/25 [Train]: 100%|██████████| 131/131 [00:47<00:00,  2.76it/s]\n",
      "Epoch 1/25 [Val]: 100%|██████████| 33/33 [00:10<00:00,  3.25it/s]\n"
     ]
    },
    {
     "name": "stdout",
     "output_type": "stream",
     "text": [
      "Epoch 1/25 completed in 57.69s\n",
      "Train Loss: 0.1991\n",
      "Validation - Accuracy: 69.83%, Precision: 0.9915, Recall: 0.5992, F1: 0.7470, AUC: 0.9340\n",
      "New best model saved with F1 score: 0.7470\n"
     ]
    },
    {
     "name": "stderr",
     "output_type": "stream",
     "text": [
      "Epoch 2/25 [Train]: 100%|██████████| 131/131 [00:46<00:00,  2.84it/s]\n",
      "Epoch 2/25 [Val]: 100%|██████████| 33/33 [00:11<00:00,  2.98it/s]\n"
     ]
    },
    {
     "name": "stdout",
     "output_type": "stream",
     "text": [
      "Epoch 2/25 completed in 57.15s\n",
      "Train Loss: 0.1624\n",
      "Validation - Accuracy: 79.60%, Precision: 0.9812, Recall: 0.7397, F1: 0.8435, AUC: 0.9404\n",
      "New best model saved with F1 score: 0.8435\n"
     ]
    },
    {
     "name": "stderr",
     "output_type": "stream",
     "text": [
      "Epoch 3/25 [Train]: 100%|██████████| 131/131 [00:48<00:00,  2.71it/s]\n",
      "Epoch 3/25 [Val]: 100%|██████████| 33/33 [00:10<00:00,  3.22it/s]\n"
     ]
    },
    {
     "name": "stdout",
     "output_type": "stream",
     "text": [
      "Epoch 3/25 completed in 58.56s\n",
      "Train Loss: 0.1509\n",
      "Validation - Accuracy: 85.73%, Precision: 0.9845, Recall: 0.8209, F1: 0.8953, AUC: 0.9637\n",
      "New best model saved with F1 score: 0.8953\n"
     ]
    },
    {
     "name": "stderr",
     "output_type": "stream",
     "text": [
      "Epoch 4/25 [Train]: 100%|██████████| 131/131 [00:47<00:00,  2.73it/s]\n",
      "Epoch 4/25 [Val]: 100%|██████████| 33/33 [00:10<00:00,  3.17it/s]\n"
     ]
    },
    {
     "name": "stdout",
     "output_type": "stream",
     "text": [
      "Epoch 4/25 completed in 58.40s\n",
      "Train Loss: 0.1421\n",
      "Validation - Accuracy: 92.34%, Precision: 0.9318, Recall: 0.9678, F1: 0.9494, AUC: 0.9703\n",
      "New best model saved with F1 score: 0.9494\n"
     ]
    },
    {
     "name": "stderr",
     "output_type": "stream",
     "text": [
      "Epoch 5/25 [Train]: 100%|██████████| 131/131 [00:48<00:00,  2.68it/s]\n",
      "Epoch 5/25 [Val]: 100%|██████████| 33/33 [00:10<00:00,  3.13it/s]\n"
     ]
    },
    {
     "name": "stdout",
     "output_type": "stream",
     "text": [
      "Epoch 5/25 completed in 59.49s\n",
      "Train Loss: 0.1363\n",
      "Validation - Accuracy: 84.87%, Precision: 0.9858, Recall: 0.8080, F1: 0.8881, AUC: 0.9565\n"
     ]
    },
    {
     "name": "stderr",
     "output_type": "stream",
     "text": [
      "Epoch 6/25 [Train]: 100%|██████████| 131/131 [00:48<00:00,  2.72it/s]\n",
      "Epoch 6/25 [Val]: 100%|██████████| 33/33 [00:10<00:00,  3.17it/s]\n"
     ]
    },
    {
     "name": "stdout",
     "output_type": "stream",
     "text": [
      "Epoch 6/25 completed in 58.54s\n",
      "Train Loss: 0.1318\n",
      "Validation - Accuracy: 90.52%, Precision: 0.9301, Recall: 0.9433, F1: 0.9367, AUC: 0.9500\n"
     ]
    },
    {
     "name": "stderr",
     "output_type": "stream",
     "text": [
      "Epoch 7/25 [Train]: 100%|██████████| 131/131 [00:47<00:00,  2.74it/s]\n",
      "Epoch 7/25 [Val]: 100%|██████████| 33/33 [00:11<00:00,  2.98it/s]\n"
     ]
    },
    {
     "name": "stdout",
     "output_type": "stream",
     "text": [
      "Epoch 7/25 completed in 58.98s\n",
      "Train Loss: 0.1240\n",
      "Validation - Accuracy: 91.48%, Precision: 0.9236, Recall: 0.9652, F1: 0.9439, AUC: 0.9670\n"
     ]
    },
    {
     "name": "stderr",
     "output_type": "stream",
     "text": [
      "Epoch 8/25 [Train]: 100%|██████████| 131/131 [00:47<00:00,  2.75it/s]\n",
      "Epoch 8/25 [Val]: 100%|██████████| 33/33 [00:10<00:00,  3.01it/s]\n"
     ]
    },
    {
     "name": "stdout",
     "output_type": "stream",
     "text": [
      "Epoch 8/25 completed in 58.70s\n",
      "Train Loss: 0.1197\n",
      "Validation - Accuracy: 63.03%, Precision: 0.9974, Recall: 0.5039, F1: 0.6695, AUC: 0.9725\n"
     ]
    },
    {
     "name": "stderr",
     "output_type": "stream",
     "text": [
      "Epoch 9/25 [Train]: 100%|██████████| 131/131 [00:48<00:00,  2.73it/s]\n",
      "Epoch 9/25 [Val]: 100%|██████████| 33/33 [00:10<00:00,  3.05it/s]\n"
     ]
    },
    {
     "name": "stdout",
     "output_type": "stream",
     "text": [
      "Epoch 9/25 completed in 58.87s\n",
      "Train Loss: 0.1106\n",
      "Validation - Accuracy: 92.82%, Precision: 0.9343, Recall: 0.9716, F1: 0.9526, AUC: 0.9780\n",
      "New best model saved with F1 score: 0.9526\n"
     ]
    },
    {
     "name": "stderr",
     "output_type": "stream",
     "text": [
      "Epoch 10/25 [Train]: 100%|██████████| 131/131 [00:49<00:00,  2.67it/s]\n",
      "Epoch 10/25 [Val]: 100%|██████████| 33/33 [00:10<00:00,  3.12it/s]\n"
     ]
    },
    {
     "name": "stdout",
     "output_type": "stream",
     "text": [
      "Epoch 10/25 completed in 59.61s\n",
      "Train Loss: 0.1030\n",
      "Validation - Accuracy: 93.30%, Precision: 0.9849, Recall: 0.9240, F1: 0.9535, AUC: 0.9784\n",
      "New best model saved with F1 score: 0.9535\n"
     ]
    },
    {
     "name": "stderr",
     "output_type": "stream",
     "text": [
      "Epoch 11/25 [Train]: 100%|██████████| 131/131 [00:47<00:00,  2.74it/s]\n",
      "Epoch 11/25 [Val]: 100%|██████████| 33/33 [00:10<00:00,  3.13it/s]\n"
     ]
    },
    {
     "name": "stdout",
     "output_type": "stream",
     "text": [
      "Epoch 11/25 completed in 58.40s\n",
      "Train Loss: 0.0938\n",
      "Validation - Accuracy: 91.76%, Precision: 0.9873, Recall: 0.9008, F1: 0.9420, AUC: 0.9839\n"
     ]
    },
    {
     "name": "stderr",
     "output_type": "stream",
     "text": [
      "Epoch 12/25 [Train]: 100%|██████████| 131/131 [00:47<00:00,  2.74it/s]\n",
      "Epoch 12/25 [Val]: 100%|██████████| 33/33 [00:10<00:00,  3.11it/s]\n"
     ]
    },
    {
     "name": "stdout",
     "output_type": "stream",
     "text": [
      "Epoch 12/25 completed in 58.45s\n",
      "Train Loss: 0.1014\n",
      "Validation - Accuracy: 95.21%, Precision: 0.9702, Recall: 0.9652, F1: 0.9677, AUC: 0.9851\n",
      "New best model saved with F1 score: 0.9677\n"
     ]
    },
    {
     "name": "stderr",
     "output_type": "stream",
     "text": [
      "Epoch 13/25 [Train]: 100%|██████████| 131/131 [00:47<00:00,  2.74it/s]\n",
      "Epoch 13/25 [Val]: 100%|██████████| 33/33 [00:10<00:00,  3.12it/s]\n"
     ]
    },
    {
     "name": "stdout",
     "output_type": "stream",
     "text": [
      "Epoch 13/25 completed in 58.46s\n",
      "Train Loss: 0.0994\n",
      "Validation - Accuracy: 90.61%, Precision: 0.9899, Recall: 0.8827, F1: 0.9332, AUC: 0.9860\n"
     ]
    },
    {
     "name": "stderr",
     "output_type": "stream",
     "text": [
      "Epoch 14/25 [Train]: 100%|██████████| 131/131 [00:47<00:00,  2.74it/s]\n",
      "Epoch 14/25 [Val]: 100%|██████████| 33/33 [00:11<00:00,  3.00it/s]\n"
     ]
    },
    {
     "name": "stdout",
     "output_type": "stream",
     "text": [
      "Epoch 14/25 completed in 58.93s\n",
      "Train Loss: 0.0938\n",
      "Validation - Accuracy: 92.05%, Precision: 0.9779, Recall: 0.9137, F1: 0.9447, AUC: 0.9797\n"
     ]
    },
    {
     "name": "stderr",
     "output_type": "stream",
     "text": [
      "Epoch 15/25 [Train]: 100%|██████████| 131/131 [00:47<00:00,  2.75it/s]\n",
      "Epoch 15/25 [Val]: 100%|██████████| 33/33 [00:10<00:00,  3.09it/s]\n"
     ]
    },
    {
     "name": "stdout",
     "output_type": "stream",
     "text": [
      "Epoch 15/25 completed in 58.41s\n",
      "Train Loss: 0.0899\n",
      "Validation - Accuracy: 84.48%, Precision: 0.9936, Recall: 0.7964, F1: 0.8841, AUC: 0.9798\n"
     ]
    },
    {
     "name": "stderr",
     "output_type": "stream",
     "text": [
      "Epoch 16/25 [Train]: 100%|██████████| 131/131 [00:48<00:00,  2.69it/s]\n",
      "Epoch 16/25 [Val]: 100%|██████████| 33/33 [00:10<00:00,  3.19it/s]\n"
     ]
    },
    {
     "name": "stdout",
     "output_type": "stream",
     "text": [
      "Epoch 16/25 completed in 59.02s\n",
      "Train Loss: 0.0974\n",
      "Validation - Accuracy: 90.04%, Precision: 0.9927, Recall: 0.8724, F1: 0.9287, AUC: 0.9839\n"
     ]
    },
    {
     "name": "stderr",
     "output_type": "stream",
     "text": [
      "Epoch 17/25 [Train]: 100%|██████████| 131/131 [00:47<00:00,  2.73it/s]\n",
      "Epoch 17/25 [Val]: 100%|██████████| 33/33 [00:10<00:00,  3.07it/s]\n"
     ]
    },
    {
     "name": "stdout",
     "output_type": "stream",
     "text": [
      "Epoch 17/25 completed in 58.74s\n",
      "Train Loss: 0.0912\n",
      "Validation - Accuracy: 93.01%, Precision: 0.9902, Recall: 0.9149, F1: 0.9511, AUC: 0.9886\n"
     ]
    },
    {
     "name": "stderr",
     "output_type": "stream",
     "text": [
      "Epoch 18/25 [Train]: 100%|██████████| 131/131 [00:48<00:00,  2.73it/s]\n",
      "Epoch 18/25 [Val]: 100%|██████████| 33/33 [00:10<00:00,  3.21it/s]\n"
     ]
    },
    {
     "name": "stdout",
     "output_type": "stream",
     "text": [
      "Epoch 18/25 completed in 58.36s\n",
      "Train Loss: 0.0786\n",
      "Validation - Accuracy: 91.28%, Precision: 0.9914, Recall: 0.8905, F1: 0.9382, AUC: 0.9881\n"
     ]
    },
    {
     "name": "stderr",
     "output_type": "stream",
     "text": [
      "Epoch 19/25 [Train]: 100%|██████████| 131/131 [00:48<00:00,  2.73it/s]\n",
      "Epoch 19/25 [Val]: 100%|██████████| 33/33 [00:10<00:00,  3.10it/s]\n"
     ]
    },
    {
     "name": "stdout",
     "output_type": "stream",
     "text": [
      "Epoch 19/25 completed in 58.69s\n",
      "Train Loss: 0.0789\n",
      "Validation - Accuracy: 95.88%, Precision: 0.9681, Recall: 0.9768, F1: 0.9724, AUC: 0.9903\n",
      "New best model saved with F1 score: 0.9724\n"
     ]
    },
    {
     "name": "stderr",
     "output_type": "stream",
     "text": [
      "Epoch 20/25 [Train]: 100%|██████████| 131/131 [00:47<00:00,  2.74it/s]\n",
      "Epoch 20/25 [Val]: 100%|██████████| 33/33 [00:10<00:00,  3.02it/s]\n"
     ]
    },
    {
     "name": "stdout",
     "output_type": "stream",
     "text": [
      "Epoch 20/25 completed in 58.71s\n",
      "Train Loss: 0.0662\n",
      "Validation - Accuracy: 93.10%, Precision: 0.9862, Recall: 0.9201, F1: 0.9520, AUC: 0.9865\n"
     ]
    },
    {
     "name": "stderr",
     "output_type": "stream",
     "text": [
      "Epoch 21/25 [Train]: 100%|██████████| 131/131 [00:47<00:00,  2.73it/s]\n",
      "Epoch 21/25 [Val]: 100%|██████████| 33/33 [00:10<00:00,  3.15it/s]\n"
     ]
    },
    {
     "name": "stdout",
     "output_type": "stream",
     "text": [
      "Epoch 21/25 completed in 58.49s\n",
      "Train Loss: 0.0727\n",
      "Validation - Accuracy: 95.02%, Precision: 0.9763, Recall: 0.9562, F1: 0.9661, AUC: 0.9884\n"
     ]
    },
    {
     "name": "stderr",
     "output_type": "stream",
     "text": [
      "Epoch 22/25 [Train]: 100%|██████████| 131/131 [00:48<00:00,  2.73it/s]\n",
      "Epoch 22/25 [Val]: 100%|██████████| 33/33 [00:10<00:00,  3.20it/s]\n"
     ]
    },
    {
     "name": "stdout",
     "output_type": "stream",
     "text": [
      "Epoch 22/25 completed in 58.37s\n",
      "Train Loss: 0.0740\n",
      "Validation - Accuracy: 92.82%, Precision: 0.9902, Recall: 0.9124, F1: 0.9497, AUC: 0.9877\n"
     ]
    },
    {
     "name": "stderr",
     "output_type": "stream",
     "text": [
      "Epoch 23/25 [Train]: 100%|██████████| 131/131 [00:47<00:00,  2.73it/s]\n",
      "Epoch 23/25 [Val]: 100%|██████████| 33/33 [00:10<00:00,  3.19it/s]\n"
     ]
    },
    {
     "name": "stdout",
     "output_type": "stream",
     "text": [
      "Epoch 23/25 completed in 58.32s\n",
      "Train Loss: 0.0759\n",
      "Validation - Accuracy: 92.62%, Precision: 0.9847, Recall: 0.9149, F1: 0.9486, AUC: 0.9842\n"
     ]
    },
    {
     "name": "stderr",
     "output_type": "stream",
     "text": [
      "Epoch 24/25 [Train]: 100%|██████████| 131/131 [00:48<00:00,  2.71it/s]\n",
      "Epoch 24/25 [Val]: 100%|██████████| 33/33 [00:11<00:00,  2.99it/s]\n"
     ]
    },
    {
     "name": "stdout",
     "output_type": "stream",
     "text": [
      "Epoch 24/25 completed in 59.38s\n",
      "Train Loss: 0.0696\n",
      "Validation - Accuracy: 94.92%, Precision: 0.9814, Recall: 0.9497, F1: 0.9653, AUC: 0.9919\n"
     ]
    },
    {
     "name": "stderr",
     "output_type": "stream",
     "text": [
      "Epoch 25/25 [Train]: 100%|██████████| 131/131 [00:47<00:00,  2.74it/s]\n",
      "Epoch 25/25 [Val]: 100%|██████████| 33/33 [00:10<00:00,  3.04it/s]\n"
     ]
    },
    {
     "name": "stdout",
     "output_type": "stream",
     "text": [
      "Epoch 25/25 completed in 58.66s\n",
      "Train Loss: 0.0640\n",
      "Validation - Accuracy: 94.64%, Precision: 0.9959, Recall: 0.9317, F1: 0.9627, AUC: 0.9933\n",
      "Loading best model with validation F1: 0.9724\n"
     ]
    },
    {
     "name": "stderr",
     "output_type": "stream",
     "text": [
      "Testing: 100%|██████████| 20/20 [00:08<00:00,  2.47it/s]\n"
     ]
    }
   ],
   "source": [
    "labels = [label for _, label in train_data]\n",
    "unique_classes = np.unique(labels)\n",
    "class_weights = compute_class_weight('balanced', classes=unique_classes, y=labels)\n",
    "class_weights = torch.tensor(class_weights, dtype=torch.float)\n",
    "\n",
    "device = torch.device('cuda' if torch.cuda.is_available() else 'cpu')\n",
    "print(f\"Using device: {device}\")\n",
    "\n",
    "# Initialize model with transfer learning\n",
    "model = models.densenet121(pretrained=True)\n",
    "model.classifier = nn.Sequential(\n",
    "    nn.Dropout(0.2),  \n",
    "    nn.Linear(model.classifier.in_features, 1)\n",
    ")\n",
    "model = model.to(device)\n",
    "\n",
    "# Loss function with class weights for imbalance\n",
    "criterion = nn.BCEWithLogitsLoss(pos_weight=torch.tensor([class_weights[1]/class_weights[0]]).to(device))\n",
    "\n",
    "# Optimizer with weight decay (L2 regularization)\n",
    "optimizer = optim.Adam(model.parameters(), lr=0.001, weight_decay=1e-5)\n",
    "\n",
    "# Learning rate scheduler\n",
    "scheduler = optim.lr_scheduler.ReduceLROnPlateau(\n",
    "    optimizer, mode='max', factor=0.5, patience=3, verbose=True\n",
    ")\n",
    "\n",
    "# Training parameters\n",
    "epochs = 25\n",
    "best_val_f1 = 0.0\n",
    "patience = 7  # For early stopping\n",
    "patience_counter = 0\n",
    "best_model_wts = None\n",
    "\n",
    "# Metrics tracking\n",
    "train_losses = []\n",
    "val_accuracies = []\n",
    "val_f1_scores = []\n",
    "\n",
    "# Training loop with improvements\n",
    "for epoch in range(epochs):\n",
    "    start_time = time.time()\n",
    "    \n",
    "    # Training phase\n",
    "    model.train()\n",
    "    total_loss = 0\n",
    "    all_labels = []\n",
    "    all_predictions = []\n",
    "    \n",
    "    for images, labels in tqdm(train_loader, desc=f\"Epoch {epoch+1}/{epochs} [Train]\"):\n",
    "        images = images.to(device)\n",
    "        labels = labels.float().unsqueeze(1).to(device)\n",
    "        \n",
    "        # Zero gradients\n",
    "        optimizer.zero_grad()\n",
    "        \n",
    "        # Forward pass\n",
    "        outputs = model(images)\n",
    "        loss = criterion(outputs, labels)\n",
    "        \n",
    "        # Backward pass and optimize\n",
    "        loss.backward()\n",
    "        optimizer.step()\n",
    "        \n",
    "        # Statistics\n",
    "        total_loss += loss.item()\n",
    "        \n",
    "        # Store predictions and labels for metrics\n",
    "        preds = torch.sigmoid(outputs) > 0.5\n",
    "        all_labels.extend(labels.cpu().numpy())\n",
    "        all_predictions.extend(preds.cpu().numpy())\n",
    "    \n",
    "    # Calculate training metrics\n",
    "    avg_train_loss = total_loss / len(train_loader)\n",
    "    train_losses.append(avg_train_loss)\n",
    "    \n",
    "    # Validation phase\n",
    "    model.eval()\n",
    "    val_correct, val_total = 0, 0\n",
    "    val_labels = []\n",
    "    val_preds = []\n",
    "    val_probs = []\n",
    "    \n",
    "    with torch.no_grad():\n",
    "        for images, labels in tqdm(val_loader, desc=f\"Epoch {epoch+1}/{epochs} [Val]\"):\n",
    "            images = images.to(device)\n",
    "            labels = labels.float().unsqueeze(1).to(device)\n",
    "            \n",
    "            # Forward pass\n",
    "            outputs = model(images)\n",
    "            probs = torch.sigmoid(outputs)\n",
    "            predicted = (probs > 0.5).float()\n",
    "            \n",
    "            # Statistics\n",
    "            val_correct += (predicted == labels).sum().item()\n",
    "            val_total += labels.size(0)\n",
    "            \n",
    "            # Store for metrics calculation\n",
    "            val_labels.extend(labels.cpu().numpy())\n",
    "            val_preds.extend(predicted.cpu().numpy())\n",
    "            val_probs.extend(probs.cpu().numpy())\n",
    "    \n",
    "    # Calculate validation metrics\n",
    "    val_accuracy = 100 * val_correct / val_total\n",
    "    val_precision, val_recall, val_f1, _ = precision_recall_fscore_support(\n",
    "        np.array(val_labels), np.array(val_preds), average='binary'\n",
    "    )\n",
    "    val_auc = roc_auc_score(np.array(val_labels), np.array(val_probs))\n",
    "    \n",
    "    # Track metrics\n",
    "    val_accuracies.append(val_accuracy)\n",
    "    val_f1_scores.append(val_f1)\n",
    "    \n",
    "    # Update learning rate based on F1 score\n",
    "    scheduler.step(val_f1)\n",
    "    \n",
    "    # Print results\n",
    "    elapsed_time = time.time() - start_time\n",
    "    print(f\"Epoch {epoch+1}/{epochs} completed in {elapsed_time:.2f}s\")\n",
    "    print(f\"Train Loss: {avg_train_loss:.4f}\")\n",
    "    print(f\"Validation - Accuracy: {val_accuracy:.2f}%, Precision: {val_precision:.4f}, Recall: {val_recall:.4f}, F1: {val_f1:.4f}, AUC: {val_auc:.4f}\")\n",
    "    \n",
    "    # Save best model based on F1 score\n",
    "    if val_f1 > best_val_f1:\n",
    "        best_val_f1 = val_f1\n",
    "        best_model_wts = copy.deepcopy(model.state_dict())\n",
    "        patience_counter = 0\n",
    "        \n",
    "        # Save the best model\n",
    "        torch.save({\n",
    "            'epoch': epoch,\n",
    "            'model_state_dict': model.state_dict(),\n",
    "            'optimizer_state_dict': optimizer.state_dict(),\n",
    "            'val_f1': val_f1,\n",
    "            'val_accuracy': val_accuracy,\n",
    "        }, 'best_model.pth')\n",
    "        print(f\"New best model saved with F1 score: {val_f1:.4f}\")\n",
    "    else:\n",
    "        patience_counter += 1\n",
    "    \n",
    "    # Early stopping\n",
    "    if patience_counter >= patience:\n",
    "        print(f\"Early stopping triggered after {epoch+1} epochs\")\n",
    "        break\n",
    "\n",
    "# Load best model for testing\n",
    "print(f\"Loading best model with validation F1: {best_val_f1:.4f}\")\n",
    "model.load_state_dict(best_model_wts)\n",
    "\n",
    "# Evaluate on test set\n",
    "model.eval()\n",
    "test_correct, test_total = 0, 0\n",
    "test_labels = []\n",
    "test_preds = []\n",
    "test_probs = []\n",
    "\n",
    "with torch.no_grad():\n",
    "    for images, labels in tqdm(test_loader, desc=\"Testing\"):\n",
    "        images = images.to(device)\n",
    "        labels = labels.float().unsqueeze(1).to(device)\n",
    "        \n",
    "        # Forward pass\n",
    "        outputs = model(images)\n",
    "        probs = torch.sigmoid(outputs)\n",
    "        predicted = (probs > 0.5).float()\n",
    "        \n",
    "        # Statistics\n",
    "        test_correct += (predicted == labels).sum().item()\n",
    "        test_total += labels.size(0)\n",
    "        \n",
    "        # Store for metrics calculation\n",
    "        test_labels.extend(labels.cpu().numpy())\n",
    "        test_preds.extend(predicted.cpu().numpy())\n",
    "        test_probs.extend(probs.cpu().numpy())\n"
   ]
  },
  {
   "cell_type": "code",
   "execution_count": 11,
   "id": "6bd9a16f",
   "metadata": {
    "execution": {
     "iopub.execute_input": "2025-04-17T08:23:08.411019Z",
     "iopub.status.busy": "2025-04-17T08:23:08.410209Z",
     "iopub.status.idle": "2025-04-17T08:23:08.906843Z",
     "shell.execute_reply": "2025-04-17T08:23:08.906006Z"
    },
    "papermill": {
     "duration": 0.717887,
     "end_time": "2025-04-17T08:23:08.908058",
     "exception": false,
     "start_time": "2025-04-17T08:23:08.190171",
     "status": "completed"
    },
    "tags": []
   },
   "outputs": [
    {
     "name": "stdout",
     "output_type": "stream",
     "text": [
      "\n",
      "Test Results:\n",
      "Accuracy: 92.63%\n",
      "Precision: 0.8981\n",
      "Recall: 0.9949\n",
      "F1 Score: 0.9440\n",
      "AUC-ROC: 0.9825\n"
     ]
    },
    {
     "data": {
      "image/png": "[encoded data removed]",
      "text/plain": [
       "<Figure size 800x600 with 2 Axes>"
      ]
     },
     "metadata": {},
     "output_type": "display_data"
    },
    {
     "data": {
      "image/png": "[encoded data removed]",
      "text/plain": [
       "<Figure size 1200x400 with 2 Axes>"
      ]
     },
     "metadata": {},
     "output_type": "display_data"
    },
    {
     "name": "stdout",
     "output_type": "stream",
     "text": [
      "Model evaluation complete. Best model saved as 'best_model.pth'\n"
     ]
    }
   ],
   "source": [
    "# Calculate test metrics\n",
    "test_accuracy = 100 * test_correct / test_total\n",
    "test_precision, test_recall, test_f1, _ = precision_recall_fscore_support(\n",
    "    np.array(test_labels), np.array(test_preds), average='binary'\n",
    ")\n",
    "test_auc = roc_auc_score(np.array(test_labels), np.array(test_probs))\n",
    "\n",
    "print(\"\\nTest Results:\")\n",
    "print(f\"Accuracy: {test_accuracy:.2f}%\")\n",
    "print(f\"Precision: {test_precision:.4f}\")\n",
    "print(f\"Recall: {test_recall:.4f}\")\n",
    "print(f\"F1 Score: {test_f1:.4f}\")\n",
    "print(f\"AUC-ROC: {test_auc:.4f}\")\n",
    "\n",
    "# Create and plot confusion matrix\n",
    "cm = confusion_matrix(np.array(test_labels), np.array(test_preds))\n",
    "plt.figure(figsize=(8, 6))\n",
    "sns.heatmap(cm, annot=True, fmt='d', cmap='Blues', \n",
    "            xticklabels=['Normal', 'Pneumonia'],\n",
    "            yticklabels=['Normal', 'Pneumonia'])\n",
    "plt.xlabel('Predicted')\n",
    "plt.ylabel('Actual')\n",
    "plt.title('Confusion Matrix')\n",
    "plt.show()\n",
    "\n",
    "\n",
    "# Plot training history\n",
    "plt.figure(figsize=(12, 4))\n",
    "plt.subplot(1, 2, 1)\n",
    "plt.plot(train_losses)\n",
    "plt.title('Training Loss')\n",
    "plt.xlabel('Epoch')\n",
    "plt.ylabel('Loss')\n",
    "plt.subplot(1, 2, 2)\n",
    "plt.plot(val_accuracies, label='Accuracy')\n",
    "plt.title('Validation Metrics')\n",
    "plt.xlabel('Epoch')\n",
    "plt.ylabel('Score')\n",
    "plt.legend()\n",
    "plt.tight_layout()\n",
    "plt.show()\n",
    "\n",
    "print(\"Model evaluation complete. Best model saved as 'best_model.pth'\")"
   ]
  },
  {
   "cell_type": "code",
   "execution_count": null,
   "id": "310e9a3a",
   "metadata": {
    "papermill": {
     "duration": 0.172653,
     "end_time": "2025-04-17T08:23:09.253789",
     "exception": false,
     "start_time": "2025-04-17T08:23:09.081136",
     "status": "completed"
    },
    "tags": []
   },
   "outputs": [],
   "source": []
  }
 ],
 "metadata": {
  "kaggle": {
   "accelerator": "nvidiaTeslaT4",
   "dataSources": [
    {
     "datasetId": 17810,
     "sourceId": 23812,
     "sourceType": "datasetVersion"
    }
   ],
   "dockerImageVersionId": 31012,
   "isGpuEnabled": true,
   "isInternetEnabled": true,
   "language": "python",
   "sourceType": "notebook"
  },
  "kernelspec": {
   "display_name": "Python 3",
   "language": "python",
   "name": "python3"
  },
  "language_info": {
   "codemirror_mode": {
    "name": "ipython",
    "version": 3
   },
   "file_extension": ".py",
   "mimetype": "text/x-python",
   "name": "python",
   "nbconvert_exporter": "python",
   "pygments_lexer": "ipython3",
   "version": "3.11.11"
  },
  "papermill": {
   "default_parameters": {},
   "duration": 1759.112849,
   "end_time": "2025-04-17T08:23:12.308566",
   "environment_variables": {},
   "exception": null,
   "input_path": "__notebook__.ipynb",
   "output_path": "__notebook__.ipynb",
   "parameters": {},
   "start_time": "2025-04-17T07:53:53.195717",
   "version": "2.6.0"
  }
 },
 "nbformat": 4,
 "nbformat_minor": 5
}
